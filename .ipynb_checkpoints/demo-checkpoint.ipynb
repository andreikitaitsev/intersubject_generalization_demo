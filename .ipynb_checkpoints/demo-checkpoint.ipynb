{
 "cells": [
  {
   "cell_type": "markdown",
   "id": "84a85807",
   "metadata": {},
   "source": [
    "# <center> Intersubject Generalization in Encoding Models Exploiting Deep Neural Netweorks <center/>\n",
    "    \n",
    "\n",
    "Welcome to this tutorial, demonstrating the cracks of our project decicated to developing the new methods of intesubject generalization!\n",
    "We will test different intersubject generalization algorithms (IGA) in the encoding model framework.\n",
    "    \n",
    "    \n",
    "This tutorial is a brief and shortened version of my Master's thesis aiming to give a reader the basic idea of the project. \n",
    "Many aspects of the original project will not be mentioned or explained in details here.\n",
    "\n",
    "    \n",
    "First, let us briefly introduce the problem we tackle in this project."
   ]
  },
  {
   "cell_type": "markdown",
   "id": "95a60869",
   "metadata": {},
   "source": [
    "## Introduction\n",
    "\n",
    "### First of all, why are intersubject generalization algorithms (IGA) useful?\n",
    "The main reason for this is that *the brain responses of every subject to the presented stimuli are different due to subject-specific noise. IGA capture the underlying brain signal shared between the subjects (i.e. invariant of the subject-specific noise)*.\n",
    "\n",
    "There are multiple fields in congitive neroscience that may benefit from identifying the brain signal shared between the subjects. Some of the applications of the IGA are listed below.\n",
    "\n",
    "1. Transfer learning (e.g. no training session for online Brain-Computer Interface systems), (Cohen et al. 2017).\n",
    "\n",
    "2. Higher sensitivity of the statistical analysis, (Richard et al. 2020).\n",
    "\n",
    "3. Sceintific generality (conclusions about the underlying source), (Richard et al. 2020).\n",
    "\n",
    "\n",
    "### But what is the main idea behind IGA?\n",
    "The main objective of the IGA is to find a way to project the data from individual subject space into the space shared between all the subjects (figure below illustrates this concept). \n",
    "\n",
    "<img src=\"images/picture1.png\" width=700 height=700 />\n",
    "\n",
    "\n",
    "### Linear and non-linear IGA\n",
    "Based on the manner of projecting the data IGA can be divided into the ones using linear mathematical operations for transforming the data and the ones using deep neural networks for this purpose. We will refer to these groups as *linear* and *non-linear* IGA respectively. \n",
    "\n",
    "Linear IGA are commonly used whereas non-linear IGA are just beginning to emerge (the first and the only [paper](https://arxiv.org/abs/1608.04846) exploiting DNN for intersubject generalization we managed to find used Convolutional Autoencoder on fMRI data).\n",
    "\n",
    "### Idea\n",
    "Inspired by [SimCLR framework](https://arxiv.org/abs/2002.05709) recently proposed in machine learning in this project we aimed to develop non-linear IGA trained with contrastive loss, which would outperform the existing linear methods. \n",
    "\n",
    "We assume that the reader is already familiar with the original SimCLR framework. If it is not the case, feel free to check out the paper above.\n",
    "Let us say, we have a neuroimaging dataset collected while presenting multiple stimulito several subjects.\n",
    "To adapt SimCLR for this dataset, we treat the brain responses of different subjects to similar stimuli as positive samples and the responses of different subjects to different stimuli as negative samples. \n",
    "Then, for each stimulus we use the *encoder DNN* and shallow fully-connected *projection head DNN* to obtain some latent representation of the brain responses to positive and negative samples. The contrastive loss is then calculated between the outputs of projection head in such a way, that the brain responses for positive samples are as similar as possible and the brain responses for negative samples are as dissimilar as possible. \n",
    "\n",
    "<img src=\"images/picture2.png\" width=700 height=700>\n",
    "\n",
    "### DNN to train with contrastive loss\n",
    "We used the [Perceiver](https://arxiv.org/abs/2103.03206) as an encoder DNN. The Perceiver is an input modality independent DNN, which potentially allows us to use it with any neuroimaging data modality (EEG, fMRI, fNIRS, etc.).\n",
    "We used the [implementation of the Perceiver](https://github.com/lucidrains/perceiver-pytorch) by [Phil Wang](https://github.com/lucidrains).\n",
    "The figure below provides a scheme of the Perceiver architecture.\n",
    "\n",
    "<img src=\"images/picture6.png\" width=700 height=700>\n",
    "\n",
    "### Baselines\n",
    "As a baseline we will compare our contrastive loss-trained non-linear IGA with the state-of-the-art linear IGA and the first non-linear IGA.\n",
    "\n",
    "#### Multiview ICA\n",
    "[Multivview ICA](https://hugorichard.github.io/software/software-3/) is a recently proposed linear IGA which was shown to outperform the other frequently used algorithms. Therefore, we use it as a state-of-the-art linear IGA.\n",
    "\n",
    "#### Convolutional Autoencoder\n",
    "[Convolutional Autoencoder](https://arxiv.org/abs/1608.04846) is a simple DNN which was to the best of our knowledge the first  non-linear IGA."
   ]
  },
  {
   "cell_type": "markdown",
   "id": "be1c1926",
   "metadata": {},
   "source": [
    "## Dataset and Encoding model\n",
    "In this project we used EEG dataset recorded with Rapid serial visual presentation paradigm, (Grootswagers, Robinson, and Carlson 2019). \n",
    "Images from the [THINGS dataset](https://pubmed.ncbi.nlm.nih.gov/31613926/) grouped in train and test datasets were presented to 7 participants. EEG response to each image was recorded. \n",
    "The *encoding model* was constructed as follows. \n",
    "Each image was fed to [CORnet-S](https://arxiv.org/abs/1909.06161) DNN.\n",
    "The output activations of the CORnet-S (independent variable) and the EEG responses (dependent variable) to train images were used to train the linear regression. Then the output activations of the CORnet-S for the test images and trained linear regression were used to obtain the predicted EEG response. \n",
    "<img src=\"images/picture3.png\" width=900 height=900>\n",
    "\n",
    "The full technical description of the dataset is available in my master's thesis which will soon be made publically available.\n",
    "\n"
   ]
  },
  {
   "cell_type": "markdown",
   "id": "07afa991",
   "metadata": {},
   "source": [
    "To assess the performance of the performance of the encoding model we used *generic decoding* procedure. I will explain it on the toy example below.\n",
    "<img src=\"images/picture4.png\" width=700 height=700>\n",
    "Let's say, we have computed the correlation between every predicted and real (recorded) EEG response and obtained a correlation matrix. Each row of the correlation matrix corresponds to the real image index and each column – to the index of the predicted image. Next, for each row (real image) we sort the correlation values in descending order. So, for every real image we have the row of indices of the predicted images sorted by the strength of their correlation with the real one. After this we define the top value N = 2.  We count the number of rows, where the correlation value with the index equalling to the row number is less or equal to N. Finally, we divide this value into the number of images (4) and obtain top 2 accuracy.\n",
    "\n",
    "We ran the encoding model on the shared space response averaged over subjects and the indivudual shared space response (without averaging)."
   ]
  },
  {
   "cell_type": "markdown",
   "id": "542001e9",
   "metadata": {},
   "source": [
    "Let us now summarize the full model pipeline.\n",
    "First, intersubject generalization was used to project individual subject data into the shared space.\n",
    "Second, the encoding model was run to obtained the predicted test set response.\n",
    "Third, the quality of the reconstruced EEG respnse was assessed via generic decding procedure.\n",
    "<img src=\"images/picture5.png\" width=900 height=900>"
   ]
  },
  {
   "cell_type": "markdown",
   "id": "9a7a20ae",
   "metadata": {},
   "source": [
    "## Intersubject generalization algorithms\n",
    "Now we come to the core of the project - intersubject genralization algorithms.\n",
    "\n",
    "As you remember, we wanted to develop non-linear IGA trained with contrastive loss, which would outperform the existing linear methods.\n",
    "Therefore, we compared the performance of the encoding model on the data transformed with the state-of-the art linear IGA, the Convolutional Autoencoder, and non-linear IGA trained with Contrastive loss (based on the Perceiver).\n",
    "As the control for the IGA we ran encoding model on the untransformed data.\n",
    "\n",
    "As the state-of-the art linear IGA we used recently proposed [MultiviewICA method](https://hugorichard.github.io/software/software-3/)."
   ]
  },
  {
   "cell_type": "markdown",
   "id": "88406e83",
   "metadata": {},
   "source": [
    "## Running the experiments"
   ]
  },
  {
   "cell_type": "markdown",
   "id": "88bc9e59",
   "metadata": {},
   "source": [
    "Here we reproduce some steps from the analysis. Not to overwhelm this tutorial with technical details, we skip many intermediate steps and leave the most essential ones. "
   ]
  },
  {
   "cell_type": "markdown",
   "id": "fe5f1f42",
   "metadata": {},
   "source": [
    "First, set the *wd* variable to the top directory of your project.\n",
    "In all the follow up code the path corresponds to the project directory."
   ]
  },
  {
   "cell_type": "code",
   "execution_count": 5,
   "id": "508e3cfe",
   "metadata": {},
   "outputs": [],
   "source": [
    "%%bash \n",
    "wd=\"/home/andrei/intersubject_generalization_demo/\"\n",
    "cd $wd"
   ]
  },
  {
   "cell_type": "markdown",
   "id": "2e2956d3",
   "metadata": {},
   "source": [
    "In order to run the code you shall have all the packages from the *requirements.txt* installed.\n",
    "The optimal way would be to create a new conda environment (*conda create -n myenv -f requirements.txt*)."
   ]
  },
  {
   "cell_type": "markdown",
   "id": "1f280548",
   "metadata": {},
   "source": [
    "### Preparing the data"
   ]
  },
  {
   "cell_type": "markdown",
   "id": "2bdb50a9",
   "metadata": {},
   "source": [
    "1. Creating the *.pkl* dataset.\n",
    "\n",
    "For this tutorial, the EEG converted to the proper format is already available in the directory:\n",
    "\n",
    "/data/source_data/datasets/\n",
    "\n",
    "However, if you want, you may reproduce the step of converting the recorded EEG into the datasets."
   ]
  },
  {
   "cell_type": "markdown",
   "id": "45c86f0e",
   "metadata": {},
   "source": [
    "Let us pack the data from multiple subjects into a single *.pkl* file for the train and test sessions.\n",
    "\n",
    "The file *create_dataset_matrix.py* packs the EEG data from different *.npy* files into a one *.pkl* file for train and test sets. The *-time* parameter corresponds to the EEG time window used in the analysis in samples, here we leave it 13 40 which corresponds to 60-600 ms after the stimulus presentation. "
   ]
  },
  {
   "cell_type": "code",
   "execution_count": 19,
   "id": "22dcc9e0",
   "metadata": {},
   "outputs": [
    {
     "name": "stdout",
     "output_type": "stream",
     "text": [
      "Subject sub-01 missing session ses-01\n",
      "Subject sub-01 missing session ses-02\n",
      "Subject sub-01 missing session ses-03\n"
     ]
    },
    {
     "name": "stderr",
     "output_type": "stream",
     "text": [
      "Traceback (most recent call last):\n",
      "  File \"create_dataset_matrix.py\", line 81, in <module>\n",
      "    dataset_train = create_dataset_matrix('train', args.input_dir, srate=args.srate)\n",
      "  File \"create_dataset_matrix.py\", line 62, in create_dataset_matrix\n",
      "    data_subj.append( av(np.stack(data_ses, axis=0)))\n",
      "  File \"<__array_function__ internals>\", line 5, in stack\n",
      "  File \"/home/andrei/anaconda3/envs/IGAdemo/lib/python3.8/site-packages/numpy/core/shape_base.py\", line 423, in stack\n",
      "    raise ValueError('need at least one array to stack')\n",
      "ValueError: need at least one array to stack\n"
     ]
    },
    {
     "ename": "CalledProcessError",
     "evalue": "Command 'b'wd=\"/home/andrei/intersubject_generalization_demo/\"\\n\\ncd $wd\"code/prepare_data\"\\neeg_dir=$wd\"data/source_data/EEG/\"\\ndataset_dir=$wd\"data/datasets/\"\\npython create_dataset_matrix.py -inp $eeg_dir -out $dataset_dir -time 13 40\\n'' returned non-zero exit status 1.",
     "output_type": "error",
     "traceback": [
      "\u001b[0;31m---------------------------------------------------------------------------\u001b[0m",
      "\u001b[0;31mCalledProcessError\u001b[0m                        Traceback (most recent call last)",
      "\u001b[0;32m/tmp/ipykernel_3952/2767529355.py\u001b[0m in \u001b[0;36m<module>\u001b[0;34m\u001b[0m\n\u001b[0;32m----> 1\u001b[0;31m \u001b[0mget_ipython\u001b[0m\u001b[0;34m(\u001b[0m\u001b[0;34m)\u001b[0m\u001b[0;34m.\u001b[0m\u001b[0mrun_cell_magic\u001b[0m\u001b[0;34m(\u001b[0m\u001b[0;34m'bash'\u001b[0m\u001b[0;34m,\u001b[0m \u001b[0;34m''\u001b[0m\u001b[0;34m,\u001b[0m \u001b[0;34m'wd=\"/home/andrei/intersubject_generalization_demo/\"\\n\\ncd $wd\"code/prepare_data\"\\neeg_dir=$wd\"data/source_data/EEG/\"\\ndataset_dir=$wd\"data/datasets/\"\\npython create_dataset_matrix.py -inp $eeg_dir -out $dataset_dir -time 13 40\\n'\u001b[0m\u001b[0;34m)\u001b[0m\u001b[0;34m\u001b[0m\u001b[0;34m\u001b[0m\u001b[0m\n\u001b[0m",
      "\u001b[0;32m~/anaconda3/envs/IGAdemo/lib/python3.8/site-packages/IPython/core/interactiveshell.py\u001b[0m in \u001b[0;36mrun_cell_magic\u001b[0;34m(self, magic_name, line, cell)\u001b[0m\n\u001b[1;32m   2401\u001b[0m             \u001b[0;32mwith\u001b[0m \u001b[0mself\u001b[0m\u001b[0;34m.\u001b[0m\u001b[0mbuiltin_trap\u001b[0m\u001b[0;34m:\u001b[0m\u001b[0;34m\u001b[0m\u001b[0;34m\u001b[0m\u001b[0m\n\u001b[1;32m   2402\u001b[0m                 \u001b[0margs\u001b[0m \u001b[0;34m=\u001b[0m \u001b[0;34m(\u001b[0m\u001b[0mmagic_arg_s\u001b[0m\u001b[0;34m,\u001b[0m \u001b[0mcell\u001b[0m\u001b[0;34m)\u001b[0m\u001b[0;34m\u001b[0m\u001b[0;34m\u001b[0m\u001b[0m\n\u001b[0;32m-> 2403\u001b[0;31m                 \u001b[0mresult\u001b[0m \u001b[0;34m=\u001b[0m \u001b[0mfn\u001b[0m\u001b[0;34m(\u001b[0m\u001b[0;34m*\u001b[0m\u001b[0margs\u001b[0m\u001b[0;34m,\u001b[0m \u001b[0;34m**\u001b[0m\u001b[0mkwargs\u001b[0m\u001b[0;34m)\u001b[0m\u001b[0;34m\u001b[0m\u001b[0;34m\u001b[0m\u001b[0m\n\u001b[0m\u001b[1;32m   2404\u001b[0m             \u001b[0;32mreturn\u001b[0m \u001b[0mresult\u001b[0m\u001b[0;34m\u001b[0m\u001b[0;34m\u001b[0m\u001b[0m\n\u001b[1;32m   2405\u001b[0m \u001b[0;34m\u001b[0m\u001b[0m\n",
      "\u001b[0;32m~/anaconda3/envs/IGAdemo/lib/python3.8/site-packages/IPython/core/magics/script.py\u001b[0m in \u001b[0;36mnamed_script_magic\u001b[0;34m(line, cell)\u001b[0m\n\u001b[1;32m    140\u001b[0m             \u001b[0;32melse\u001b[0m\u001b[0;34m:\u001b[0m\u001b[0;34m\u001b[0m\u001b[0;34m\u001b[0m\u001b[0m\n\u001b[1;32m    141\u001b[0m                 \u001b[0mline\u001b[0m \u001b[0;34m=\u001b[0m \u001b[0mscript\u001b[0m\u001b[0;34m\u001b[0m\u001b[0;34m\u001b[0m\u001b[0m\n\u001b[0;32m--> 142\u001b[0;31m             \u001b[0;32mreturn\u001b[0m \u001b[0mself\u001b[0m\u001b[0;34m.\u001b[0m\u001b[0mshebang\u001b[0m\u001b[0;34m(\u001b[0m\u001b[0mline\u001b[0m\u001b[0;34m,\u001b[0m \u001b[0mcell\u001b[0m\u001b[0;34m)\u001b[0m\u001b[0;34m\u001b[0m\u001b[0;34m\u001b[0m\u001b[0m\n\u001b[0m\u001b[1;32m    143\u001b[0m \u001b[0;34m\u001b[0m\u001b[0m\n\u001b[1;32m    144\u001b[0m         \u001b[0;31m# write a basic docstring:\u001b[0m\u001b[0;34m\u001b[0m\u001b[0;34m\u001b[0m\u001b[0;34m\u001b[0m\u001b[0m\n",
      "\u001b[0;32m~/anaconda3/envs/IGAdemo/lib/python3.8/site-packages/decorator.py\u001b[0m in \u001b[0;36mfun\u001b[0;34m(*args, **kw)\u001b[0m\n\u001b[1;32m    230\u001b[0m             \u001b[0;32mif\u001b[0m \u001b[0;32mnot\u001b[0m \u001b[0mkwsyntax\u001b[0m\u001b[0;34m:\u001b[0m\u001b[0;34m\u001b[0m\u001b[0;34m\u001b[0m\u001b[0m\n\u001b[1;32m    231\u001b[0m                 \u001b[0margs\u001b[0m\u001b[0;34m,\u001b[0m \u001b[0mkw\u001b[0m \u001b[0;34m=\u001b[0m \u001b[0mfix\u001b[0m\u001b[0;34m(\u001b[0m\u001b[0margs\u001b[0m\u001b[0;34m,\u001b[0m \u001b[0mkw\u001b[0m\u001b[0;34m,\u001b[0m \u001b[0msig\u001b[0m\u001b[0;34m)\u001b[0m\u001b[0;34m\u001b[0m\u001b[0;34m\u001b[0m\u001b[0m\n\u001b[0;32m--> 232\u001b[0;31m             \u001b[0;32mreturn\u001b[0m \u001b[0mcaller\u001b[0m\u001b[0;34m(\u001b[0m\u001b[0mfunc\u001b[0m\u001b[0;34m,\u001b[0m \u001b[0;34m*\u001b[0m\u001b[0;34m(\u001b[0m\u001b[0mextras\u001b[0m \u001b[0;34m+\u001b[0m \u001b[0margs\u001b[0m\u001b[0;34m)\u001b[0m\u001b[0;34m,\u001b[0m \u001b[0;34m**\u001b[0m\u001b[0mkw\u001b[0m\u001b[0;34m)\u001b[0m\u001b[0;34m\u001b[0m\u001b[0;34m\u001b[0m\u001b[0m\n\u001b[0m\u001b[1;32m    233\u001b[0m     \u001b[0mfun\u001b[0m\u001b[0;34m.\u001b[0m\u001b[0m__name__\u001b[0m \u001b[0;34m=\u001b[0m \u001b[0mfunc\u001b[0m\u001b[0;34m.\u001b[0m\u001b[0m__name__\u001b[0m\u001b[0;34m\u001b[0m\u001b[0;34m\u001b[0m\u001b[0m\n\u001b[1;32m    234\u001b[0m     \u001b[0mfun\u001b[0m\u001b[0;34m.\u001b[0m\u001b[0m__doc__\u001b[0m \u001b[0;34m=\u001b[0m \u001b[0mfunc\u001b[0m\u001b[0;34m.\u001b[0m\u001b[0m__doc__\u001b[0m\u001b[0;34m\u001b[0m\u001b[0;34m\u001b[0m\u001b[0m\n",
      "\u001b[0;32m~/anaconda3/envs/IGAdemo/lib/python3.8/site-packages/IPython/core/magic.py\u001b[0m in \u001b[0;36m<lambda>\u001b[0;34m(f, *a, **k)\u001b[0m\n\u001b[1;32m    185\u001b[0m     \u001b[0;31m# but it's overkill for just that one bit of state.\u001b[0m\u001b[0;34m\u001b[0m\u001b[0;34m\u001b[0m\u001b[0;34m\u001b[0m\u001b[0m\n\u001b[1;32m    186\u001b[0m     \u001b[0;32mdef\u001b[0m \u001b[0mmagic_deco\u001b[0m\u001b[0;34m(\u001b[0m\u001b[0marg\u001b[0m\u001b[0;34m)\u001b[0m\u001b[0;34m:\u001b[0m\u001b[0;34m\u001b[0m\u001b[0;34m\u001b[0m\u001b[0m\n\u001b[0;32m--> 187\u001b[0;31m         \u001b[0mcall\u001b[0m \u001b[0;34m=\u001b[0m \u001b[0;32mlambda\u001b[0m \u001b[0mf\u001b[0m\u001b[0;34m,\u001b[0m \u001b[0;34m*\u001b[0m\u001b[0ma\u001b[0m\u001b[0;34m,\u001b[0m \u001b[0;34m**\u001b[0m\u001b[0mk\u001b[0m\u001b[0;34m:\u001b[0m \u001b[0mf\u001b[0m\u001b[0;34m(\u001b[0m\u001b[0;34m*\u001b[0m\u001b[0ma\u001b[0m\u001b[0;34m,\u001b[0m \u001b[0;34m**\u001b[0m\u001b[0mk\u001b[0m\u001b[0;34m)\u001b[0m\u001b[0;34m\u001b[0m\u001b[0;34m\u001b[0m\u001b[0m\n\u001b[0m\u001b[1;32m    188\u001b[0m \u001b[0;34m\u001b[0m\u001b[0m\n\u001b[1;32m    189\u001b[0m         \u001b[0;32mif\u001b[0m \u001b[0mcallable\u001b[0m\u001b[0;34m(\u001b[0m\u001b[0marg\u001b[0m\u001b[0;34m)\u001b[0m\u001b[0;34m:\u001b[0m\u001b[0;34m\u001b[0m\u001b[0;34m\u001b[0m\u001b[0m\n",
      "\u001b[0;32m~/anaconda3/envs/IGAdemo/lib/python3.8/site-packages/IPython/core/magics/script.py\u001b[0m in \u001b[0;36mshebang\u001b[0;34m(self, line, cell)\u001b[0m\n\u001b[1;32m    243\u001b[0m             \u001b[0msys\u001b[0m\u001b[0;34m.\u001b[0m\u001b[0mstderr\u001b[0m\u001b[0;34m.\u001b[0m\u001b[0mflush\u001b[0m\u001b[0;34m(\u001b[0m\u001b[0;34m)\u001b[0m\u001b[0;34m\u001b[0m\u001b[0;34m\u001b[0m\u001b[0m\n\u001b[1;32m    244\u001b[0m         \u001b[0;32mif\u001b[0m \u001b[0margs\u001b[0m\u001b[0;34m.\u001b[0m\u001b[0mraise_error\u001b[0m \u001b[0;32mand\u001b[0m \u001b[0mp\u001b[0m\u001b[0;34m.\u001b[0m\u001b[0mreturncode\u001b[0m\u001b[0;34m!=\u001b[0m\u001b[0;36m0\u001b[0m\u001b[0;34m:\u001b[0m\u001b[0;34m\u001b[0m\u001b[0;34m\u001b[0m\u001b[0m\n\u001b[0;32m--> 245\u001b[0;31m             \u001b[0;32mraise\u001b[0m \u001b[0mCalledProcessError\u001b[0m\u001b[0;34m(\u001b[0m\u001b[0mp\u001b[0m\u001b[0;34m.\u001b[0m\u001b[0mreturncode\u001b[0m\u001b[0;34m,\u001b[0m \u001b[0mcell\u001b[0m\u001b[0;34m,\u001b[0m \u001b[0moutput\u001b[0m\u001b[0;34m=\u001b[0m\u001b[0mout\u001b[0m\u001b[0;34m,\u001b[0m \u001b[0mstderr\u001b[0m\u001b[0;34m=\u001b[0m\u001b[0merr\u001b[0m\u001b[0;34m)\u001b[0m\u001b[0;34m\u001b[0m\u001b[0;34m\u001b[0m\u001b[0m\n\u001b[0m\u001b[1;32m    246\u001b[0m \u001b[0;34m\u001b[0m\u001b[0m\n\u001b[1;32m    247\u001b[0m     \u001b[0;32mdef\u001b[0m \u001b[0m_run_script\u001b[0m\u001b[0;34m(\u001b[0m\u001b[0mself\u001b[0m\u001b[0;34m,\u001b[0m \u001b[0mp\u001b[0m\u001b[0;34m,\u001b[0m \u001b[0mcell\u001b[0m\u001b[0;34m,\u001b[0m \u001b[0mto_close\u001b[0m\u001b[0;34m)\u001b[0m\u001b[0;34m:\u001b[0m\u001b[0;34m\u001b[0m\u001b[0;34m\u001b[0m\u001b[0m\n",
      "\u001b[0;31mCalledProcessError\u001b[0m: Command 'b'wd=\"/home/andrei/intersubject_generalization_demo/\"\\n\\ncd $wd\"code/prepare_data\"\\neeg_dir=$wd\"data/source_data/EEG/\"\\ndataset_dir=$wd\"data/datasets/\"\\npython create_dataset_matrix.py -inp $eeg_dir -out $dataset_dir -time 13 40\\n'' returned non-zero exit status 1."
     ]
    }
   ],
   "source": [
    "%%bash\n",
    "wd=\"/home/andrei/intersubject_generalization_demo/\"\n",
    "\n",
    "cd $wd\"code/prepare_data\"\n",
    "eeg_dir=$wd\"data/source_data/EEG/\"\n",
    "dataset_dir=$wd\"data/datasets/\"\n",
    "python create_dataset_matrix.py -inp $eeg_dir -out $dataset_dir -time 13 40"
   ]
  },
  {
   "cell_type": "markdown",
   "id": "5a422037",
   "metadata": {},
   "source": [
    "2. Creating the feature matrix\n",
    "\n",
    "Next, we have to reshape the EEG dataset of shape *subjects x images x timepoints x channels* into the featurematix of shape *subjects x images x features*. This is the requirement of the [Multiview ICA toolbox](https://github.com/hugorichard/multiviewica/blob/master/multiviewica/_multiviewica.py) (feel free to see the documentation).\n",
    "\n",
    "The file *create_featurematrix.py* does the job.\n",
    "It accepts the directory where the EEG dataset files are stored and the output directory where the feature matrices will be saved."
   ]
  },
  {
   "cell_type": "code",
   "execution_count": 20,
   "id": "52727774",
   "metadata": {},
   "outputs": [
    {
     "name": "stderr",
     "output_type": "stream",
     "text": [
      "Traceback (most recent call last):\n",
      "  File \"create_featurematrix.py\", line 47, in <module>\n",
      "    dataset_train = joblib.load(Path(args.input_dir).joinpath('dataset_train.pkl'))\n",
      "  File \"/home/andrei/anaconda3/envs/IGAdemo/lib/python3.8/site-packages/joblib/numpy_pickle.py\", line 585, in load\n",
      "    obj = _unpickle(fobj, filename, mmap_mode)\n",
      "  File \"/home/andrei/anaconda3/envs/IGAdemo/lib/python3.8/site-packages/joblib/numpy_pickle.py\", line 504, in _unpickle\n",
      "    obj = unpickler.load()\n",
      "  File \"/home/andrei/anaconda3/envs/IGAdemo/lib/python3.8/pickle.py\", line 1210, in load\n",
      "    dispatch[key[0]](self)\n",
      "KeyError: 118\n"
     ]
    },
    {
     "ename": "CalledProcessError",
     "evalue": "Command 'b'wd=\"/home/andrei/intersubject_generalization_demo/\"\\n\\ncd $wd\"/code/prepare_data/\"\\ndataset_dir=$wd\"/data/source_data/datasets/\"\\nfeaturemat_dir=$wd\"/data/source_data/featurematrices/\"\\npython create_featurematrix.py -inp $dataset_dir -out $featuremat_dir\\n'' returned non-zero exit status 1.",
     "output_type": "error",
     "traceback": [
      "\u001b[0;31m---------------------------------------------------------------------------\u001b[0m",
      "\u001b[0;31mCalledProcessError\u001b[0m                        Traceback (most recent call last)",
      "\u001b[0;32m/tmp/ipykernel_3952/1190562239.py\u001b[0m in \u001b[0;36m<module>\u001b[0;34m\u001b[0m\n\u001b[0;32m----> 1\u001b[0;31m \u001b[0mget_ipython\u001b[0m\u001b[0;34m(\u001b[0m\u001b[0;34m)\u001b[0m\u001b[0;34m.\u001b[0m\u001b[0mrun_cell_magic\u001b[0m\u001b[0;34m(\u001b[0m\u001b[0;34m'bash'\u001b[0m\u001b[0;34m,\u001b[0m \u001b[0;34m''\u001b[0m\u001b[0;34m,\u001b[0m \u001b[0;34m'wd=\"/home/andrei/intersubject_generalization_demo/\"\\n\\ncd $wd\"/code/prepare_data/\"\\ndataset_dir=$wd\"/data/source_data/datasets/\"\\nfeaturemat_dir=$wd\"/data/source_data/featurematrices/\"\\npython create_featurematrix.py -inp $dataset_dir -out $featuremat_dir\\n'\u001b[0m\u001b[0;34m)\u001b[0m\u001b[0;34m\u001b[0m\u001b[0;34m\u001b[0m\u001b[0m\n\u001b[0m",
      "\u001b[0;32m~/anaconda3/envs/IGAdemo/lib/python3.8/site-packages/IPython/core/interactiveshell.py\u001b[0m in \u001b[0;36mrun_cell_magic\u001b[0;34m(self, magic_name, line, cell)\u001b[0m\n\u001b[1;32m   2401\u001b[0m             \u001b[0;32mwith\u001b[0m \u001b[0mself\u001b[0m\u001b[0;34m.\u001b[0m\u001b[0mbuiltin_trap\u001b[0m\u001b[0;34m:\u001b[0m\u001b[0;34m\u001b[0m\u001b[0;34m\u001b[0m\u001b[0m\n\u001b[1;32m   2402\u001b[0m                 \u001b[0margs\u001b[0m \u001b[0;34m=\u001b[0m \u001b[0;34m(\u001b[0m\u001b[0mmagic_arg_s\u001b[0m\u001b[0;34m,\u001b[0m \u001b[0mcell\u001b[0m\u001b[0;34m)\u001b[0m\u001b[0;34m\u001b[0m\u001b[0;34m\u001b[0m\u001b[0m\n\u001b[0;32m-> 2403\u001b[0;31m                 \u001b[0mresult\u001b[0m \u001b[0;34m=\u001b[0m \u001b[0mfn\u001b[0m\u001b[0;34m(\u001b[0m\u001b[0;34m*\u001b[0m\u001b[0margs\u001b[0m\u001b[0;34m,\u001b[0m \u001b[0;34m**\u001b[0m\u001b[0mkwargs\u001b[0m\u001b[0;34m)\u001b[0m\u001b[0;34m\u001b[0m\u001b[0;34m\u001b[0m\u001b[0m\n\u001b[0m\u001b[1;32m   2404\u001b[0m             \u001b[0;32mreturn\u001b[0m \u001b[0mresult\u001b[0m\u001b[0;34m\u001b[0m\u001b[0;34m\u001b[0m\u001b[0m\n\u001b[1;32m   2405\u001b[0m \u001b[0;34m\u001b[0m\u001b[0m\n",
      "\u001b[0;32m~/anaconda3/envs/IGAdemo/lib/python3.8/site-packages/IPython/core/magics/script.py\u001b[0m in \u001b[0;36mnamed_script_magic\u001b[0;34m(line, cell)\u001b[0m\n\u001b[1;32m    140\u001b[0m             \u001b[0;32melse\u001b[0m\u001b[0;34m:\u001b[0m\u001b[0;34m\u001b[0m\u001b[0;34m\u001b[0m\u001b[0m\n\u001b[1;32m    141\u001b[0m                 \u001b[0mline\u001b[0m \u001b[0;34m=\u001b[0m \u001b[0mscript\u001b[0m\u001b[0;34m\u001b[0m\u001b[0;34m\u001b[0m\u001b[0m\n\u001b[0;32m--> 142\u001b[0;31m             \u001b[0;32mreturn\u001b[0m \u001b[0mself\u001b[0m\u001b[0;34m.\u001b[0m\u001b[0mshebang\u001b[0m\u001b[0;34m(\u001b[0m\u001b[0mline\u001b[0m\u001b[0;34m,\u001b[0m \u001b[0mcell\u001b[0m\u001b[0;34m)\u001b[0m\u001b[0;34m\u001b[0m\u001b[0;34m\u001b[0m\u001b[0m\n\u001b[0m\u001b[1;32m    143\u001b[0m \u001b[0;34m\u001b[0m\u001b[0m\n\u001b[1;32m    144\u001b[0m         \u001b[0;31m# write a basic docstring:\u001b[0m\u001b[0;34m\u001b[0m\u001b[0;34m\u001b[0m\u001b[0;34m\u001b[0m\u001b[0m\n",
      "\u001b[0;32m~/anaconda3/envs/IGAdemo/lib/python3.8/site-packages/decorator.py\u001b[0m in \u001b[0;36mfun\u001b[0;34m(*args, **kw)\u001b[0m\n\u001b[1;32m    230\u001b[0m             \u001b[0;32mif\u001b[0m \u001b[0;32mnot\u001b[0m \u001b[0mkwsyntax\u001b[0m\u001b[0;34m:\u001b[0m\u001b[0;34m\u001b[0m\u001b[0;34m\u001b[0m\u001b[0m\n\u001b[1;32m    231\u001b[0m                 \u001b[0margs\u001b[0m\u001b[0;34m,\u001b[0m \u001b[0mkw\u001b[0m \u001b[0;34m=\u001b[0m \u001b[0mfix\u001b[0m\u001b[0;34m(\u001b[0m\u001b[0margs\u001b[0m\u001b[0;34m,\u001b[0m \u001b[0mkw\u001b[0m\u001b[0;34m,\u001b[0m \u001b[0msig\u001b[0m\u001b[0;34m)\u001b[0m\u001b[0;34m\u001b[0m\u001b[0;34m\u001b[0m\u001b[0m\n\u001b[0;32m--> 232\u001b[0;31m             \u001b[0;32mreturn\u001b[0m \u001b[0mcaller\u001b[0m\u001b[0;34m(\u001b[0m\u001b[0mfunc\u001b[0m\u001b[0;34m,\u001b[0m \u001b[0;34m*\u001b[0m\u001b[0;34m(\u001b[0m\u001b[0mextras\u001b[0m \u001b[0;34m+\u001b[0m \u001b[0margs\u001b[0m\u001b[0;34m)\u001b[0m\u001b[0;34m,\u001b[0m \u001b[0;34m**\u001b[0m\u001b[0mkw\u001b[0m\u001b[0;34m)\u001b[0m\u001b[0;34m\u001b[0m\u001b[0;34m\u001b[0m\u001b[0m\n\u001b[0m\u001b[1;32m    233\u001b[0m     \u001b[0mfun\u001b[0m\u001b[0;34m.\u001b[0m\u001b[0m__name__\u001b[0m \u001b[0;34m=\u001b[0m \u001b[0mfunc\u001b[0m\u001b[0;34m.\u001b[0m\u001b[0m__name__\u001b[0m\u001b[0;34m\u001b[0m\u001b[0;34m\u001b[0m\u001b[0m\n\u001b[1;32m    234\u001b[0m     \u001b[0mfun\u001b[0m\u001b[0;34m.\u001b[0m\u001b[0m__doc__\u001b[0m \u001b[0;34m=\u001b[0m \u001b[0mfunc\u001b[0m\u001b[0;34m.\u001b[0m\u001b[0m__doc__\u001b[0m\u001b[0;34m\u001b[0m\u001b[0;34m\u001b[0m\u001b[0m\n",
      "\u001b[0;32m~/anaconda3/envs/IGAdemo/lib/python3.8/site-packages/IPython/core/magic.py\u001b[0m in \u001b[0;36m<lambda>\u001b[0;34m(f, *a, **k)\u001b[0m\n\u001b[1;32m    185\u001b[0m     \u001b[0;31m# but it's overkill for just that one bit of state.\u001b[0m\u001b[0;34m\u001b[0m\u001b[0;34m\u001b[0m\u001b[0;34m\u001b[0m\u001b[0m\n\u001b[1;32m    186\u001b[0m     \u001b[0;32mdef\u001b[0m \u001b[0mmagic_deco\u001b[0m\u001b[0;34m(\u001b[0m\u001b[0marg\u001b[0m\u001b[0;34m)\u001b[0m\u001b[0;34m:\u001b[0m\u001b[0;34m\u001b[0m\u001b[0;34m\u001b[0m\u001b[0m\n\u001b[0;32m--> 187\u001b[0;31m         \u001b[0mcall\u001b[0m \u001b[0;34m=\u001b[0m \u001b[0;32mlambda\u001b[0m \u001b[0mf\u001b[0m\u001b[0;34m,\u001b[0m \u001b[0;34m*\u001b[0m\u001b[0ma\u001b[0m\u001b[0;34m,\u001b[0m \u001b[0;34m**\u001b[0m\u001b[0mk\u001b[0m\u001b[0;34m:\u001b[0m \u001b[0mf\u001b[0m\u001b[0;34m(\u001b[0m\u001b[0;34m*\u001b[0m\u001b[0ma\u001b[0m\u001b[0;34m,\u001b[0m \u001b[0;34m**\u001b[0m\u001b[0mk\u001b[0m\u001b[0;34m)\u001b[0m\u001b[0;34m\u001b[0m\u001b[0;34m\u001b[0m\u001b[0m\n\u001b[0m\u001b[1;32m    188\u001b[0m \u001b[0;34m\u001b[0m\u001b[0m\n\u001b[1;32m    189\u001b[0m         \u001b[0;32mif\u001b[0m \u001b[0mcallable\u001b[0m\u001b[0;34m(\u001b[0m\u001b[0marg\u001b[0m\u001b[0;34m)\u001b[0m\u001b[0;34m:\u001b[0m\u001b[0;34m\u001b[0m\u001b[0;34m\u001b[0m\u001b[0m\n",
      "\u001b[0;32m~/anaconda3/envs/IGAdemo/lib/python3.8/site-packages/IPython/core/magics/script.py\u001b[0m in \u001b[0;36mshebang\u001b[0;34m(self, line, cell)\u001b[0m\n\u001b[1;32m    243\u001b[0m             \u001b[0msys\u001b[0m\u001b[0;34m.\u001b[0m\u001b[0mstderr\u001b[0m\u001b[0;34m.\u001b[0m\u001b[0mflush\u001b[0m\u001b[0;34m(\u001b[0m\u001b[0;34m)\u001b[0m\u001b[0;34m\u001b[0m\u001b[0;34m\u001b[0m\u001b[0m\n\u001b[1;32m    244\u001b[0m         \u001b[0;32mif\u001b[0m \u001b[0margs\u001b[0m\u001b[0;34m.\u001b[0m\u001b[0mraise_error\u001b[0m \u001b[0;32mand\u001b[0m \u001b[0mp\u001b[0m\u001b[0;34m.\u001b[0m\u001b[0mreturncode\u001b[0m\u001b[0;34m!=\u001b[0m\u001b[0;36m0\u001b[0m\u001b[0;34m:\u001b[0m\u001b[0;34m\u001b[0m\u001b[0;34m\u001b[0m\u001b[0m\n\u001b[0;32m--> 245\u001b[0;31m             \u001b[0;32mraise\u001b[0m \u001b[0mCalledProcessError\u001b[0m\u001b[0;34m(\u001b[0m\u001b[0mp\u001b[0m\u001b[0;34m.\u001b[0m\u001b[0mreturncode\u001b[0m\u001b[0;34m,\u001b[0m \u001b[0mcell\u001b[0m\u001b[0;34m,\u001b[0m \u001b[0moutput\u001b[0m\u001b[0;34m=\u001b[0m\u001b[0mout\u001b[0m\u001b[0;34m,\u001b[0m \u001b[0mstderr\u001b[0m\u001b[0;34m=\u001b[0m\u001b[0merr\u001b[0m\u001b[0;34m)\u001b[0m\u001b[0;34m\u001b[0m\u001b[0;34m\u001b[0m\u001b[0m\n\u001b[0m\u001b[1;32m    246\u001b[0m \u001b[0;34m\u001b[0m\u001b[0m\n\u001b[1;32m    247\u001b[0m     \u001b[0;32mdef\u001b[0m \u001b[0m_run_script\u001b[0m\u001b[0;34m(\u001b[0m\u001b[0mself\u001b[0m\u001b[0;34m,\u001b[0m \u001b[0mp\u001b[0m\u001b[0;34m,\u001b[0m \u001b[0mcell\u001b[0m\u001b[0;34m,\u001b[0m \u001b[0mto_close\u001b[0m\u001b[0;34m)\u001b[0m\u001b[0;34m:\u001b[0m\u001b[0;34m\u001b[0m\u001b[0;34m\u001b[0m\u001b[0m\n",
      "\u001b[0;31mCalledProcessError\u001b[0m: Command 'b'wd=\"/home/andrei/intersubject_generalization_demo/\"\\n\\ncd $wd\"/code/prepare_data/\"\\ndataset_dir=$wd\"/data/source_data/datasets/\"\\nfeaturemat_dir=$wd\"/data/source_data/featurematrices/\"\\npython create_featurematrix.py -inp $dataset_dir -out $featuremat_dir\\n'' returned non-zero exit status 1."
     ]
    }
   ],
   "source": [
    "%%bash\n",
    "wd=\"/home/andrei/intersubject_generalization_demo/\"\n",
    "\n",
    "cd $wd\"/code/prepare_data/\"\n",
    "dataset_dir=$wd\"/data/source_data/datasets/\"\n",
    "featuremat_dir=$wd\"/data/source_data/featurematrices/\"\n",
    "python create_featurematrix.py -inp $dataset_dir -out $featuremat_dir"
   ]
  },
  {
   "cell_type": "code",
   "execution_count": 13,
   "id": "feb23f79",
   "metadata": {},
   "outputs": [
    {
     "name": "stdout",
     "output_type": "stream",
     "text": [
      "/home/andrei/intersubject_generalization_demo/\n"
     ]
    }
   ],
   "source": [
    "%%bash\n",
    "wd=\"/home/andrei/intersubject_generalization_demo/\"\n",
    "echo $wd"
   ]
  },
  {
   "cell_type": "code",
   "execution_count": 15,
   "id": "b8d934b9",
   "metadata": {},
   "outputs": [
    {
     "name": "stdout",
     "output_type": "stream",
     "text": [
      "\n"
     ]
    }
   ],
   "source": []
  },
  {
   "cell_type": "code",
   "execution_count": null,
   "id": "8c193f16",
   "metadata": {},
   "outputs": [],
   "source": []
  },
  {
   "cell_type": "markdown",
   "id": "4d0f65e3",
   "metadata": {},
   "source": [
    "3. Creating the feature matrix with increment of the training data\n",
    "\n",
    "Linear methods are known to require less training data, than DNN-based. In orded to check how does the amount the the training data influence the performance of the IGA, we will create the feature matrices with sequentially increasing number of the train images. In order to do it we randomly select 10, 20, 40, 60, and 80 % of the training images. For reproducibility in the project we used the average performance over 10 random shuffles. However, in this tutorial we will only use 1 shuffle. "
   ]
  },
  {
   "cell_type": "code",
   "execution_count": null,
   "id": "5dbcb414",
   "metadata": {},
   "outputs": [],
   "source": [
    "%%bash\n",
    "cd $path_/code/prepare_data/\n",
    "incr_featuremat_dir=$path_\"/data/\n",
    "python create_featurematrix.py -inp $dataset_dir -out $featuremat_dir"
   ]
  },
  {
   "cell_type": "markdown",
   "id": "a24d21b9",
   "metadata": {},
   "source": [
    "Great! Now we have the feature matrices for the train and test set EEG responses and are ready to run intersubject generalization on it."
   ]
  },
  {
   "cell_type": "markdown",
   "id": "b216c212",
   "metadata": {},
   "source": [
    "### Intersubject generalization\n",
    "Now let us run different intersubject generalization methods and see how it influences the performance of the encoding model.\n",
    "\n",
    "For every IGA we will:\n",
    "1. Run the IGA on the EEG data;\n",
    "2. Run linear regression (average and subject-wise);\n",
    "3. Run generic decoding.\n",
    "In the end we will plot the generic decoding as bar plots for average and subject-wise data. This will allow us to compare the performance of the encoding model on the data transformed by each of the IGA."
   ]
  },
  {
   "cell_type": "markdown",
   "id": "d8cb80f4",
   "metadata": {},
   "source": [
    "#### 1. Control\n",
    "In order to have a control for the IGA, we first run the encoding model on the untransformed EEG data."
   ]
  },
  {
   "cell_type": "markdown",
   "id": "6f7d4471",
   "metadata": {},
   "source": [
    "1. Running linear regression"
   ]
  },
  {
   "cell_type": "code",
   "execution_count": null,
   "id": "8a1c437d",
   "metadata": {},
   "outputs": [],
   "source": [
    "%%bash\n",
    "cd code/linear/regression/\n",
    "featuremat_dir=$path\"/data/featurematrices/\"\n",
    "control_dir_av=$path\"/data/regression/control/average\"\n",
    "control_dir_sw=$path\"/data/regression/control/subjectwise\"\n",
    "dnn_dir=$path\"/data/dnn_activations/\"\n",
    "\n",
    "# running linear regression on average data\n",
    "python linear_regression_average.py -eeg_dir $featuremat_dir -dnn_dir $dnn_dir -out_dir $control_dir_av\n",
    "\n",
    "# running linear regression on subjectwise data\n",
    "python linear_regression_subjectwise.py -eeg_dir $featuremat_dir -dnn_dir $dnn_dir -out_dir $control_dir_sw"
   ]
  },
  {
   "cell_type": "markdown",
   "id": "3783eacd",
   "metadata": {},
   "source": [
    "2. Running generic decoding"
   ]
  },
  {
   "cell_type": "code",
   "execution_count": null,
   "id": "9e1c94f5",
   "metadata": {},
   "outputs": [],
   "source": [
    "%%bash\n",
    "cd code/linear/generic_decoding/\n",
    "\n",
    "ctrl_gen_dec_av\n",
    "ctrl_gen_dec_sw=$path\"/data/generic_decoding/control/\"\n",
    "control_dir_av=$path\"/data/regression/control/average\"\n",
    "control_dir_sw=$path\"/data/regression/control/subjectwise\"\n",
    "dnn_dir=$path\"/data/dnn_activations/\"\n",
    "\n",
    "# running linear regression on average data\n",
    "python linear_regression_average.py -eeg_dir $featuremat_dir -dnn_dir $dnn_dir -out_dir $control_dir_av\n",
    "\n",
    "# running linear regression on subjectwise data\n",
    "python linear_regression_subjectwise.py -eeg_dir $featuremat_dir -dnn_dir $dnn_dir -out_dir $control_dir_sw"
   ]
  },
  {
   "cell_type": "code",
   "execution_count": null,
   "id": "969a22f7",
   "metadata": {},
   "outputs": [],
   "source": [
    "Let us run MultiviewICA on the featurematrices.\n",
    "I wrapped the original code for the Multiview ICA into an object *intersubject_generalizer*. Following the scikit learn convention, it implements the *.fit* and *.project* methods.  "
   ]
  },
  {
   "cell_type": "markdown",
   "id": "cfe787e0",
   "metadata": {},
   "source": [
    "** 2. Linear IGA**"
   ]
  },
  {
   "cell_type": "markdown",
   "id": "7632fc30",
   "metadata": {},
   "source": [
    "* *Multiview ICA*\n"
   ]
  },
  {
   "cell_type": "code",
   "execution_count": null,
   "id": "82f58876",
   "metadata": {},
   "outputs": [],
   "source": []
  }
 ],
 "metadata": {
  "kernelspec": {
   "display_name": "Python 3 (ipykernel)",
   "language": "python",
   "name": "python3"
  },
  "language_info": {
   "codemirror_mode": {
    "name": "ipython",
    "version": 3
   },
   "file_extension": ".py",
   "mimetype": "text/x-python",
   "name": "python",
   "nbconvert_exporter": "python",
   "pygments_lexer": "ipython3",
   "version": "3.8.5"
  }
 },
 "nbformat": 4,
 "nbformat_minor": 5
}
