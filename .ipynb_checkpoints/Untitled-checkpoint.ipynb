{
 "cells": [
  {
   "cell_type": "markdown",
   "id": "specified-daniel",
   "metadata": {},
   "source": [
    "# <center> Intersubject Generalization in Encoding Models Exploiting Deep Neural Netweorks <center/>\n",
    "    \n",
    "\n",
    "Welcome to this tutorial, demonstrating the cracks of our project decicated to developing new methods of intesubject generalization!\n",
    "As implied by the project name, we will test intersubject generalization in the encoding model framework.\n",
    "This tutorial is a brief and shortened version of my Master's thesis aiming to give reader a basic idea about the project, so many aspects of it will not be mentioned or explained in details.\n",
    "First, let us briefly introduce the problem we tackle in this project."
   ]
  },
  {
   "cell_type": "markdown",
   "id": "horizontal-stations",
   "metadata": {},
   "source": [
    "## Introduction\n",
    "\n",
    "### First of all, why are intersubject generalization algorithms (IGA) useful?\n",
    "The main reason for this is that *the brain responses of every subject to the presented stimuli are different due to subject-specific noise. IGA capture underlying brain signal shared between the subjects (i.e. invariant of the subject-specific noise)*.\n",
    "\n",
    "There are multiple fields in congitive neroscience that may benefit from identified the brain signal shared between the subjects. Some of the applications of IGA are listed below.\n",
    "\n",
    "1. Transfer learning (e.g. no training session for online Brain-Computer Interface systems), (Cohen et al. 2017).\n",
    "\n",
    "2. Higher sensitivity of the statistical analysis, (Richard et al. 2020).\n",
    "\n",
    "3. Sceintific generality (conclusions about the underlying source), (Richard et al. 2020).\n",
    "\n",
    "So, now we see that there are many fields in cognitive neurosciene which may benefit from IGA.\n",
    "\n",
    "### But what is the main idea behind IGA?\n",
    "The main objective of IGA is to find a way to project data from individual subject space to the space shared between all the subjects (figure below illustrates this concept). \n",
    "\n",
    "<img src=\"images/picture1.png\" width=700 height=700 />\n",
    "\n",
    "Based on the manner of projecting the data IGA can be divided into the ones using linear mathematical operations for transforming the data and the ones using deep neural networks for this purpose. We will refer to these groups as *linear* and *non-linear* IGA respectively. \n",
    "\n",
    "Linear IGA are commonly used whereas non-linear IGA are just beginning to emerge (the first and the only [paper](https://arxiv.org/abs/1608.04846) exploiting DNN for intersubject generalization we managed to find used Convolutional Autoencoder on fMRI data).\n",
    "\n",
    "### Idea\n",
    "Inspired by [SimCLR framework](https://arxiv.org/abs/2002.05709) recently proposed in machine learning in this project we aimed to develop non-linear IGA trained with contrastive loss, which would outperform the existing linear methods. \n",
    "\n",
    "We assume that the reader is already familiar with the original SimCLR framework. If it is not the case, feel free to check out the paper above.\n",
    "Let us say, we have a neuroimaging dataset collected while presenting multiple stimulito several subjects.\n",
    "To adapt SimCLR for this dataset, we treat the brain responses of different subjects to similar stimuli as positive samples and the responses of different subjects to different stimuli as negative samples. \n",
    "Then, for each stimulus we use the *encoder DNN* and shallow fully-connected *projection head DNN* to obtain some latent representation of the brain responses to positive and negative samples. The contrastive loss is then calculated between the outputs of projection head in such a way, that the brain responses for positive samples are as similar as possible and the brain responses for negative samples are as dissimilar as possible. \n",
    "\n",
    "<img src=\"images/picture2.png\" width=700 height=700>\n",
    "\n",
    "### DNN to train with contrastive loss\n",
    "We used the [Perceiver](https://arxiv.org/abs/2103.03206) as an encoder DNN. The Perceiver is an input modality independent DNN, which potentially allows us to use it with any neuroimaging data modality (EEG, fMRI, fNIRS, etc.).\n",
    "We used the [implementation of the Perceiver](https://github.com/lucidrains/perceiver-pytorch) by [Phil Wang](https://github.com/lucidrains).\n",
    "The figure below provides a scheme of the Perceiver architecture.\n",
    "\n",
    "<img src=\"images/picture6.png\" width=700 height=700>"
   ]
  },
  {
   "cell_type": "markdown",
   "id": "rotary-librarian",
   "metadata": {},
   "source": [
    "## Dataset and Encoding model\n",
    "In this project we used EEG dataset recorded with Rapid serial visual presentation paradigm, (Grootswagers, Robinson, and Carlson 2019). \n",
    "Images from the [THINGS dataset](https://pubmed.ncbi.nlm.nih.gov/31613926/) grouped in train and test datasets were presented to 7 participants. EEG response to each image was recorded. \n",
    "The *encoding model* was constructed as follows. \n",
    "Each image was fed to [CORnet-S](https://arxiv.org/abs/1909.06161) DNN.\n",
    "The output activations of the CORnet-S (independent variable) and the EEG responses (dependent variable) to train images were used to train the linear regression. Then the output activations of the CORnet-S for the test images and trained linear regression were used to obtain the predicted EEG response. \n",
    "<img src=\"images/picture3.png\" width=900 height=900>\n",
    "\n",
    "The full technical description of the dataset is available in my master's thesis which will soon be made publically available.\n",
    "\n"
   ]
  },
  {
   "cell_type": "markdown",
   "id": "imported-midnight",
   "metadata": {},
   "source": [
    "To assess the performance of the performance of the encoding model we used *generic decoding* procedure. I will explain it on the toy example below.\n",
    "<img src=\"images/picture4.png\" width=700 height=700>\n",
    "Let's say, we have computed the correlation between every predicted and real (recorded) EEG response and obtained a correlation matrix. Each row of the correlation matrix corresponds to the real image index and each column – to the index of the predicted image. Next, for each row (real image) we sort the correlation values in descending order. So, for every real image we have the row of indices of the predicted images sorted by the strength of their correlation with the real one. After this we define the top value N = 2.  We count the number of rows, where the correlation value with the index equalling to the row number is less or equal to N. Finally, we divide this value into the number of images (4) and obtain top 2 accuracy.\n",
    "\n",
    "We ran the encoding model on the shared space response averaged over subjects and the indivudual shared space response (without averaging)."
   ]
  },
  {
   "cell_type": "markdown",
   "id": "boolean-framework",
   "metadata": {},
   "source": [
    "Let us now summarize the full model pipeline.\n",
    "First, intersubject generalization was used to project individual subject data into the shared space.\n",
    "Second, the encoding model was run to obtained the predicted test set response.\n",
    "Third, the quality of the reconstruced EEG respnse was assessed via generic decding procedure.\n",
    "<img src=\"images/picture5.png\" width=900 height=900>"
   ]
  },
  {
   "cell_type": "markdown",
   "id": "communist-smith",
   "metadata": {},
   "source": [
    "## Intersubject generalization algorithms\n",
    "Now we come to the cracks of the project - intersubject genralization algorithms.\n",
    "\n",
    "As you remember, we wanted to develop non-linear IGA trained with contrastive loss, which would outperform the existing linear methods.\n",
    "Therefore, we compared the performance of the encoding model on the data transformed with the state-of-the art linear IGA, the Convolutional Autoencoder, and non-linear IGA trained with Contrastive loss (based on the Perceiver).\n",
    "As the control for the IGA we ran encoding model on the untransformed data.\n",
    "\n",
    "As the state-of-the art linear IGA we used recently proposed [MultiviewICA method](https://hugorichard.github.io/software/software-3/)."
   ]
  },
  {
   "cell_type": "markdown",
   "id": "corporate-phenomenon",
   "metadata": {},
   "source": [
    "## Running the experiments"
   ]
  },
  {
   "cell_type": "markdown",
   "id": "legal-survivor",
   "metadata": {},
   "source": [
    "Here we reproduce some steps from the analysis. Not to overwhelm this tutorial with technical details, we skip many intermediate steps and leave the most essential ones. "
   ]
  },
  {
   "cell_type": "markdown",
   "id": "vulnerable-purse",
   "metadata": {},
   "source": [
    "### Creating an environment with the required packages\n",
    "First, set the *path* variable to the top directory of your project.\n",
    "In all the follow up code the path corresponds to the project directory."
   ]
  },
  {
   "cell_type": "code",
   "execution_count": 15,
   "id": "partial-visitor",
   "metadata": {},
   "outputs": [],
   "source": [
    "%%bash \n",
    "path=/mnt/e/Documentos/Study/Master_thesis/intersubject_generalization/demo\n",
    "cd $path"
   ]
  },
  {
   "cell_type": "markdown",
   "id": "raising-perth",
   "metadata": {},
   "source": [
    "In order to run the code you shall have all the packages from *requirements.txt* installed.\n",
    "After this, let us create an environment with the required packages."
   ]
  },
  {
   "cell_type": "code",
   "execution_count": 16,
   "id": "naval-endorsement",
   "metadata": {},
   "outputs": [
    {
     "name": "stderr",
     "output_type": "stream",
     "text": [
      "-bash: line 1: conda: command not found\n"
     ]
    },
    {
     "ename": "CalledProcessError",
     "evalue": "Command 'b'conda create -n env1 -f requirements.txt\\n'' returned non-zero exit status 127.",
     "output_type": "error",
     "traceback": [
      "\u001b[1;31m---------------------------------------------------------------------------\u001b[0m",
      "\u001b[1;31mCalledProcessError\u001b[0m                        Traceback (most recent call last)",
      "\u001b[1;32m<ipython-input-16-1043adde39df>\u001b[0m in \u001b[0;36m<module>\u001b[1;34m\u001b[0m\n\u001b[1;32m----> 1\u001b[1;33m \u001b[0mget_ipython\u001b[0m\u001b[1;33m(\u001b[0m\u001b[1;33m)\u001b[0m\u001b[1;33m.\u001b[0m\u001b[0mrun_cell_magic\u001b[0m\u001b[1;33m(\u001b[0m\u001b[1;34m'bash'\u001b[0m\u001b[1;33m,\u001b[0m \u001b[1;34m''\u001b[0m\u001b[1;33m,\u001b[0m \u001b[1;34m'conda create -n env1 -f requirements.txt\\n'\u001b[0m\u001b[1;33m)\u001b[0m\u001b[1;33m\u001b[0m\u001b[1;33m\u001b[0m\u001b[0m\n\u001b[0m",
      "\u001b[1;32mC:\\ProgramData\\Miniconda3\\lib\\site-packages\\IPython\\core\\interactiveshell.py\u001b[0m in \u001b[0;36mrun_cell_magic\u001b[1;34m(self, magic_name, line, cell)\u001b[0m\n\u001b[0;32m   2397\u001b[0m             \u001b[1;32mwith\u001b[0m \u001b[0mself\u001b[0m\u001b[1;33m.\u001b[0m\u001b[0mbuiltin_trap\u001b[0m\u001b[1;33m:\u001b[0m\u001b[1;33m\u001b[0m\u001b[1;33m\u001b[0m\u001b[0m\n\u001b[0;32m   2398\u001b[0m                 \u001b[0margs\u001b[0m \u001b[1;33m=\u001b[0m \u001b[1;33m(\u001b[0m\u001b[0mmagic_arg_s\u001b[0m\u001b[1;33m,\u001b[0m \u001b[0mcell\u001b[0m\u001b[1;33m)\u001b[0m\u001b[1;33m\u001b[0m\u001b[1;33m\u001b[0m\u001b[0m\n\u001b[1;32m-> 2399\u001b[1;33m                 \u001b[0mresult\u001b[0m \u001b[1;33m=\u001b[0m \u001b[0mfn\u001b[0m\u001b[1;33m(\u001b[0m\u001b[1;33m*\u001b[0m\u001b[0margs\u001b[0m\u001b[1;33m,\u001b[0m \u001b[1;33m**\u001b[0m\u001b[0mkwargs\u001b[0m\u001b[1;33m)\u001b[0m\u001b[1;33m\u001b[0m\u001b[1;33m\u001b[0m\u001b[0m\n\u001b[0m\u001b[0;32m   2400\u001b[0m             \u001b[1;32mreturn\u001b[0m \u001b[0mresult\u001b[0m\u001b[1;33m\u001b[0m\u001b[1;33m\u001b[0m\u001b[0m\n\u001b[0;32m   2401\u001b[0m \u001b[1;33m\u001b[0m\u001b[0m\n",
      "\u001b[1;32mC:\\ProgramData\\Miniconda3\\lib\\site-packages\\IPython\\core\\magics\\script.py\u001b[0m in \u001b[0;36mnamed_script_magic\u001b[1;34m(line, cell)\u001b[0m\n\u001b[0;32m    140\u001b[0m             \u001b[1;32melse\u001b[0m\u001b[1;33m:\u001b[0m\u001b[1;33m\u001b[0m\u001b[1;33m\u001b[0m\u001b[0m\n\u001b[0;32m    141\u001b[0m                 \u001b[0mline\u001b[0m \u001b[1;33m=\u001b[0m \u001b[0mscript\u001b[0m\u001b[1;33m\u001b[0m\u001b[1;33m\u001b[0m\u001b[0m\n\u001b[1;32m--> 142\u001b[1;33m             \u001b[1;32mreturn\u001b[0m \u001b[0mself\u001b[0m\u001b[1;33m.\u001b[0m\u001b[0mshebang\u001b[0m\u001b[1;33m(\u001b[0m\u001b[0mline\u001b[0m\u001b[1;33m,\u001b[0m \u001b[0mcell\u001b[0m\u001b[1;33m)\u001b[0m\u001b[1;33m\u001b[0m\u001b[1;33m\u001b[0m\u001b[0m\n\u001b[0m\u001b[0;32m    143\u001b[0m \u001b[1;33m\u001b[0m\u001b[0m\n\u001b[0;32m    144\u001b[0m         \u001b[1;31m# write a basic docstring:\u001b[0m\u001b[1;33m\u001b[0m\u001b[1;33m\u001b[0m\u001b[1;33m\u001b[0m\u001b[0m\n",
      "\u001b[1;32m<decorator-gen-104>\u001b[0m in \u001b[0;36mshebang\u001b[1;34m(self, line, cell)\u001b[0m\n",
      "\u001b[1;32mC:\\ProgramData\\Miniconda3\\lib\\site-packages\\IPython\\core\\magic.py\u001b[0m in \u001b[0;36m<lambda>\u001b[1;34m(f, *a, **k)\u001b[0m\n\u001b[0;32m    185\u001b[0m     \u001b[1;31m# but it's overkill for just that one bit of state.\u001b[0m\u001b[1;33m\u001b[0m\u001b[1;33m\u001b[0m\u001b[1;33m\u001b[0m\u001b[0m\n\u001b[0;32m    186\u001b[0m     \u001b[1;32mdef\u001b[0m \u001b[0mmagic_deco\u001b[0m\u001b[1;33m(\u001b[0m\u001b[0marg\u001b[0m\u001b[1;33m)\u001b[0m\u001b[1;33m:\u001b[0m\u001b[1;33m\u001b[0m\u001b[1;33m\u001b[0m\u001b[0m\n\u001b[1;32m--> 187\u001b[1;33m         \u001b[0mcall\u001b[0m \u001b[1;33m=\u001b[0m \u001b[1;32mlambda\u001b[0m \u001b[0mf\u001b[0m\u001b[1;33m,\u001b[0m \u001b[1;33m*\u001b[0m\u001b[0ma\u001b[0m\u001b[1;33m,\u001b[0m \u001b[1;33m**\u001b[0m\u001b[0mk\u001b[0m\u001b[1;33m:\u001b[0m \u001b[0mf\u001b[0m\u001b[1;33m(\u001b[0m\u001b[1;33m*\u001b[0m\u001b[0ma\u001b[0m\u001b[1;33m,\u001b[0m \u001b[1;33m**\u001b[0m\u001b[0mk\u001b[0m\u001b[1;33m)\u001b[0m\u001b[1;33m\u001b[0m\u001b[1;33m\u001b[0m\u001b[0m\n\u001b[0m\u001b[0;32m    188\u001b[0m \u001b[1;33m\u001b[0m\u001b[0m\n\u001b[0;32m    189\u001b[0m         \u001b[1;32mif\u001b[0m \u001b[0mcallable\u001b[0m\u001b[1;33m(\u001b[0m\u001b[0marg\u001b[0m\u001b[1;33m)\u001b[0m\u001b[1;33m:\u001b[0m\u001b[1;33m\u001b[0m\u001b[1;33m\u001b[0m\u001b[0m\n",
      "\u001b[1;32mC:\\ProgramData\\Miniconda3\\lib\\site-packages\\IPython\\core\\magics\\script.py\u001b[0m in \u001b[0;36mshebang\u001b[1;34m(self, line, cell)\u001b[0m\n\u001b[0;32m    243\u001b[0m             \u001b[0msys\u001b[0m\u001b[1;33m.\u001b[0m\u001b[0mstderr\u001b[0m\u001b[1;33m.\u001b[0m\u001b[0mflush\u001b[0m\u001b[1;33m(\u001b[0m\u001b[1;33m)\u001b[0m\u001b[1;33m\u001b[0m\u001b[1;33m\u001b[0m\u001b[0m\n\u001b[0;32m    244\u001b[0m         \u001b[1;32mif\u001b[0m \u001b[0margs\u001b[0m\u001b[1;33m.\u001b[0m\u001b[0mraise_error\u001b[0m \u001b[1;32mand\u001b[0m \u001b[0mp\u001b[0m\u001b[1;33m.\u001b[0m\u001b[0mreturncode\u001b[0m\u001b[1;33m!=\u001b[0m\u001b[1;36m0\u001b[0m\u001b[1;33m:\u001b[0m\u001b[1;33m\u001b[0m\u001b[1;33m\u001b[0m\u001b[0m\n\u001b[1;32m--> 245\u001b[1;33m             \u001b[1;32mraise\u001b[0m \u001b[0mCalledProcessError\u001b[0m\u001b[1;33m(\u001b[0m\u001b[0mp\u001b[0m\u001b[1;33m.\u001b[0m\u001b[0mreturncode\u001b[0m\u001b[1;33m,\u001b[0m \u001b[0mcell\u001b[0m\u001b[1;33m,\u001b[0m \u001b[0moutput\u001b[0m\u001b[1;33m=\u001b[0m\u001b[0mout\u001b[0m\u001b[1;33m,\u001b[0m \u001b[0mstderr\u001b[0m\u001b[1;33m=\u001b[0m\u001b[0merr\u001b[0m\u001b[1;33m)\u001b[0m\u001b[1;33m\u001b[0m\u001b[1;33m\u001b[0m\u001b[0m\n\u001b[0m\u001b[0;32m    246\u001b[0m \u001b[1;33m\u001b[0m\u001b[0m\n\u001b[0;32m    247\u001b[0m     \u001b[1;32mdef\u001b[0m \u001b[0m_run_script\u001b[0m\u001b[1;33m(\u001b[0m\u001b[0mself\u001b[0m\u001b[1;33m,\u001b[0m \u001b[0mp\u001b[0m\u001b[1;33m,\u001b[0m \u001b[0mcell\u001b[0m\u001b[1;33m,\u001b[0m \u001b[0mto_close\u001b[0m\u001b[1;33m)\u001b[0m\u001b[1;33m:\u001b[0m\u001b[1;33m\u001b[0m\u001b[1;33m\u001b[0m\u001b[0m\n",
      "\u001b[1;31mCalledProcessError\u001b[0m: Command 'b'conda create -n env1 -f requirements.txt\\n'' returned non-zero exit status 127."
     ]
    }
   ],
   "source": [
    "%%bash\n",
    "conda create -n env1 -f requirements.txt"
   ]
  },
  {
   "cell_type": "markdown",
   "id": "instrumental-parliament",
   "metadata": {},
   "source": [
    "### Preparing the data"
   ]
  },
  {
   "cell_type": "markdown",
   "id": "exposed-acrylic",
   "metadata": {},
   "source": [
    "1. Creating the *.pkl* dataset.\n",
    "The collected EEG is stored in the folder \n",
    "\n",
    "/data/EEG."
   ]
  },
  {
   "cell_type": "markdown",
   "id": "introductory-establishment",
   "metadata": {},
   "source": [
    "Let us pack the data from multiple subjects into a single *.pkl* file for the train and test sessions.\n",
    "\n",
    "The file *create_dataset_matrix.py* packs the EEG data from different *.npy* files into a one *.pkl* file for train and test sets. The *-time* parameter corresponds to the EEG time window used in the analysis in samples, here we leave it 13 40 which corresponds to 60-600 ms after the stimulus presentation. "
   ]
  },
  {
   "cell_type": "code",
   "execution_count": 17,
   "id": "significant-pixel",
   "metadata": {},
   "outputs": [
    {
     "name": "stderr",
     "output_type": "stream",
     "text": [
      "Traceback (most recent call last):\n",
      "  File \"create_dataset_matrix.py\", line 6, in <module>\n",
      "    import numpy as np\n",
      "ImportError: No module named numpy\n"
     ]
    },
    {
     "ename": "CalledProcessError",
     "evalue": "Command 'b'cd code/prepare_data/\\neeg_dir=\"data/EEG/\"\\ndataset_dir=\"data/datasets/\"\\npython create_dataset_matrix.py -inp $eeg_dir -out $dataset_dir -time 13 40\\n'' returned non-zero exit status 1.",
     "output_type": "error",
     "traceback": [
      "\u001b[1;31m---------------------------------------------------------------------------\u001b[0m",
      "\u001b[1;31mCalledProcessError\u001b[0m                        Traceback (most recent call last)",
      "\u001b[1;32m<ipython-input-17-a77387c93143>\u001b[0m in \u001b[0;36m<module>\u001b[1;34m\u001b[0m\n\u001b[1;32m----> 1\u001b[1;33m \u001b[0mget_ipython\u001b[0m\u001b[1;33m(\u001b[0m\u001b[1;33m)\u001b[0m\u001b[1;33m.\u001b[0m\u001b[0mrun_cell_magic\u001b[0m\u001b[1;33m(\u001b[0m\u001b[1;34m'bash'\u001b[0m\u001b[1;33m,\u001b[0m \u001b[1;34m''\u001b[0m\u001b[1;33m,\u001b[0m \u001b[1;34m'cd code/prepare_data/\\neeg_dir=\"data/EEG/\"\\ndataset_dir=\"data/datasets/\"\\npython create_dataset_matrix.py -inp $eeg_dir -out $dataset_dir -time 13 40\\n'\u001b[0m\u001b[1;33m)\u001b[0m\u001b[1;33m\u001b[0m\u001b[1;33m\u001b[0m\u001b[0m\n\u001b[0m",
      "\u001b[1;32mC:\\ProgramData\\Miniconda3\\lib\\site-packages\\IPython\\core\\interactiveshell.py\u001b[0m in \u001b[0;36mrun_cell_magic\u001b[1;34m(self, magic_name, line, cell)\u001b[0m\n\u001b[0;32m   2397\u001b[0m             \u001b[1;32mwith\u001b[0m \u001b[0mself\u001b[0m\u001b[1;33m.\u001b[0m\u001b[0mbuiltin_trap\u001b[0m\u001b[1;33m:\u001b[0m\u001b[1;33m\u001b[0m\u001b[1;33m\u001b[0m\u001b[0m\n\u001b[0;32m   2398\u001b[0m                 \u001b[0margs\u001b[0m \u001b[1;33m=\u001b[0m \u001b[1;33m(\u001b[0m\u001b[0mmagic_arg_s\u001b[0m\u001b[1;33m,\u001b[0m \u001b[0mcell\u001b[0m\u001b[1;33m)\u001b[0m\u001b[1;33m\u001b[0m\u001b[1;33m\u001b[0m\u001b[0m\n\u001b[1;32m-> 2399\u001b[1;33m                 \u001b[0mresult\u001b[0m \u001b[1;33m=\u001b[0m \u001b[0mfn\u001b[0m\u001b[1;33m(\u001b[0m\u001b[1;33m*\u001b[0m\u001b[0margs\u001b[0m\u001b[1;33m,\u001b[0m \u001b[1;33m**\u001b[0m\u001b[0mkwargs\u001b[0m\u001b[1;33m)\u001b[0m\u001b[1;33m\u001b[0m\u001b[1;33m\u001b[0m\u001b[0m\n\u001b[0m\u001b[0;32m   2400\u001b[0m             \u001b[1;32mreturn\u001b[0m \u001b[0mresult\u001b[0m\u001b[1;33m\u001b[0m\u001b[1;33m\u001b[0m\u001b[0m\n\u001b[0;32m   2401\u001b[0m \u001b[1;33m\u001b[0m\u001b[0m\n",
      "\u001b[1;32mC:\\ProgramData\\Miniconda3\\lib\\site-packages\\IPython\\core\\magics\\script.py\u001b[0m in \u001b[0;36mnamed_script_magic\u001b[1;34m(line, cell)\u001b[0m\n\u001b[0;32m    140\u001b[0m             \u001b[1;32melse\u001b[0m\u001b[1;33m:\u001b[0m\u001b[1;33m\u001b[0m\u001b[1;33m\u001b[0m\u001b[0m\n\u001b[0;32m    141\u001b[0m                 \u001b[0mline\u001b[0m \u001b[1;33m=\u001b[0m \u001b[0mscript\u001b[0m\u001b[1;33m\u001b[0m\u001b[1;33m\u001b[0m\u001b[0m\n\u001b[1;32m--> 142\u001b[1;33m             \u001b[1;32mreturn\u001b[0m \u001b[0mself\u001b[0m\u001b[1;33m.\u001b[0m\u001b[0mshebang\u001b[0m\u001b[1;33m(\u001b[0m\u001b[0mline\u001b[0m\u001b[1;33m,\u001b[0m \u001b[0mcell\u001b[0m\u001b[1;33m)\u001b[0m\u001b[1;33m\u001b[0m\u001b[1;33m\u001b[0m\u001b[0m\n\u001b[0m\u001b[0;32m    143\u001b[0m \u001b[1;33m\u001b[0m\u001b[0m\n\u001b[0;32m    144\u001b[0m         \u001b[1;31m# write a basic docstring:\u001b[0m\u001b[1;33m\u001b[0m\u001b[1;33m\u001b[0m\u001b[1;33m\u001b[0m\u001b[0m\n",
      "\u001b[1;32m<decorator-gen-104>\u001b[0m in \u001b[0;36mshebang\u001b[1;34m(self, line, cell)\u001b[0m\n",
      "\u001b[1;32mC:\\ProgramData\\Miniconda3\\lib\\site-packages\\IPython\\core\\magic.py\u001b[0m in \u001b[0;36m<lambda>\u001b[1;34m(f, *a, **k)\u001b[0m\n\u001b[0;32m    185\u001b[0m     \u001b[1;31m# but it's overkill for just that one bit of state.\u001b[0m\u001b[1;33m\u001b[0m\u001b[1;33m\u001b[0m\u001b[1;33m\u001b[0m\u001b[0m\n\u001b[0;32m    186\u001b[0m     \u001b[1;32mdef\u001b[0m \u001b[0mmagic_deco\u001b[0m\u001b[1;33m(\u001b[0m\u001b[0marg\u001b[0m\u001b[1;33m)\u001b[0m\u001b[1;33m:\u001b[0m\u001b[1;33m\u001b[0m\u001b[1;33m\u001b[0m\u001b[0m\n\u001b[1;32m--> 187\u001b[1;33m         \u001b[0mcall\u001b[0m \u001b[1;33m=\u001b[0m \u001b[1;32mlambda\u001b[0m \u001b[0mf\u001b[0m\u001b[1;33m,\u001b[0m \u001b[1;33m*\u001b[0m\u001b[0ma\u001b[0m\u001b[1;33m,\u001b[0m \u001b[1;33m**\u001b[0m\u001b[0mk\u001b[0m\u001b[1;33m:\u001b[0m \u001b[0mf\u001b[0m\u001b[1;33m(\u001b[0m\u001b[1;33m*\u001b[0m\u001b[0ma\u001b[0m\u001b[1;33m,\u001b[0m \u001b[1;33m**\u001b[0m\u001b[0mk\u001b[0m\u001b[1;33m)\u001b[0m\u001b[1;33m\u001b[0m\u001b[1;33m\u001b[0m\u001b[0m\n\u001b[0m\u001b[0;32m    188\u001b[0m \u001b[1;33m\u001b[0m\u001b[0m\n\u001b[0;32m    189\u001b[0m         \u001b[1;32mif\u001b[0m \u001b[0mcallable\u001b[0m\u001b[1;33m(\u001b[0m\u001b[0marg\u001b[0m\u001b[1;33m)\u001b[0m\u001b[1;33m:\u001b[0m\u001b[1;33m\u001b[0m\u001b[1;33m\u001b[0m\u001b[0m\n",
      "\u001b[1;32mC:\\ProgramData\\Miniconda3\\lib\\site-packages\\IPython\\core\\magics\\script.py\u001b[0m in \u001b[0;36mshebang\u001b[1;34m(self, line, cell)\u001b[0m\n\u001b[0;32m    243\u001b[0m             \u001b[0msys\u001b[0m\u001b[1;33m.\u001b[0m\u001b[0mstderr\u001b[0m\u001b[1;33m.\u001b[0m\u001b[0mflush\u001b[0m\u001b[1;33m(\u001b[0m\u001b[1;33m)\u001b[0m\u001b[1;33m\u001b[0m\u001b[1;33m\u001b[0m\u001b[0m\n\u001b[0;32m    244\u001b[0m         \u001b[1;32mif\u001b[0m \u001b[0margs\u001b[0m\u001b[1;33m.\u001b[0m\u001b[0mraise_error\u001b[0m \u001b[1;32mand\u001b[0m \u001b[0mp\u001b[0m\u001b[1;33m.\u001b[0m\u001b[0mreturncode\u001b[0m\u001b[1;33m!=\u001b[0m\u001b[1;36m0\u001b[0m\u001b[1;33m:\u001b[0m\u001b[1;33m\u001b[0m\u001b[1;33m\u001b[0m\u001b[0m\n\u001b[1;32m--> 245\u001b[1;33m             \u001b[1;32mraise\u001b[0m \u001b[0mCalledProcessError\u001b[0m\u001b[1;33m(\u001b[0m\u001b[0mp\u001b[0m\u001b[1;33m.\u001b[0m\u001b[0mreturncode\u001b[0m\u001b[1;33m,\u001b[0m \u001b[0mcell\u001b[0m\u001b[1;33m,\u001b[0m \u001b[0moutput\u001b[0m\u001b[1;33m=\u001b[0m\u001b[0mout\u001b[0m\u001b[1;33m,\u001b[0m \u001b[0mstderr\u001b[0m\u001b[1;33m=\u001b[0m\u001b[0merr\u001b[0m\u001b[1;33m)\u001b[0m\u001b[1;33m\u001b[0m\u001b[1;33m\u001b[0m\u001b[0m\n\u001b[0m\u001b[0;32m    246\u001b[0m \u001b[1;33m\u001b[0m\u001b[0m\n\u001b[0;32m    247\u001b[0m     \u001b[1;32mdef\u001b[0m \u001b[0m_run_script\u001b[0m\u001b[1;33m(\u001b[0m\u001b[0mself\u001b[0m\u001b[1;33m,\u001b[0m \u001b[0mp\u001b[0m\u001b[1;33m,\u001b[0m \u001b[0mcell\u001b[0m\u001b[1;33m,\u001b[0m \u001b[0mto_close\u001b[0m\u001b[1;33m)\u001b[0m\u001b[1;33m:\u001b[0m\u001b[1;33m\u001b[0m\u001b[1;33m\u001b[0m\u001b[0m\n",
      "\u001b[1;31mCalledProcessError\u001b[0m: Command 'b'cd code/prepare_data/\\neeg_dir=\"data/EEG/\"\\ndataset_dir=\"data/datasets/\"\\npython create_dataset_matrix.py -inp $eeg_dir -out $dataset_dir -time 13 40\\n'' returned non-zero exit status 1."
     ]
    }
   ],
   "source": [
    "%%bash\n",
    "cd code/prepare_data/\n",
    "eeg_dir=\"data/EEG/\"\n",
    "dataset_dir=\"data/datasets/\"\n",
    "python create_dataset_matrix.py -inp $eeg_dir -out $dataset_dir -time 13 40"
   ]
  },
  {
   "cell_type": "code",
   "execution_count": 22,
   "id": "sublime-trance",
   "metadata": {},
   "outputs": [],
   "source": []
  },
  {
   "cell_type": "markdown",
   "id": "charged-healthcare",
   "metadata": {},
   "source": [
    "2. Creating the feature matrix\n",
    "\n",
    "Next, we have to reshape the EEG dataset of shape *subjects x images x timepoints x channels* into the featurematix of shape *subjects x images x features*. This is the requirement of the [Multiview ICA toolbox](https://github.com/hugorichard/multiviewica/blob/master/multiviewica/_multiviewica.py) (feel free to see the documentation).\n",
    "\n",
    "The file *create_featurematrix.py* does the job.\n",
    "It accepts the directory where the EEG dataset files are stored and the output directory where the feature matrices will be saved."
   ]
  },
  {
   "cell_type": "code",
   "execution_count": 29,
   "id": "biblical-winning",
   "metadata": {},
   "outputs": [
    {
     "name": "stderr",
     "output_type": "stream",
     "text": [
      "Traceback (most recent call last):\n",
      "  File \"create_featurematrix.py\", line 7, in <module>\n",
      "    import joblib\n",
      "ImportError: No module named joblib\n"
     ]
    },
    {
     "ename": "CalledProcessError",
     "evalue": "Command 'b'cd code/prepare_data/\\nfeaturemat_dir=\"data/featurematrices/\"\\npython create_featurematrix.py -inp $dataset_dir -out $featuremat_dir\\n'' returned non-zero exit status 1.",
     "output_type": "error",
     "traceback": [
      "\u001b[1;31m---------------------------------------------------------------------------\u001b[0m",
      "\u001b[1;31mCalledProcessError\u001b[0m                        Traceback (most recent call last)",
      "\u001b[1;32m<ipython-input-29-3e5b820f0019>\u001b[0m in \u001b[0;36m<module>\u001b[1;34m\u001b[0m\n\u001b[1;32m----> 1\u001b[1;33m \u001b[0mget_ipython\u001b[0m\u001b[1;33m(\u001b[0m\u001b[1;33m)\u001b[0m\u001b[1;33m.\u001b[0m\u001b[0mrun_cell_magic\u001b[0m\u001b[1;33m(\u001b[0m\u001b[1;34m'bash'\u001b[0m\u001b[1;33m,\u001b[0m \u001b[1;34m''\u001b[0m\u001b[1;33m,\u001b[0m \u001b[1;34m'cd code/prepare_data/\\nfeaturemat_dir=\"data/featurematrices/\"\\npython create_featurematrix.py -inp $dataset_dir -out $featuremat_dir\\n'\u001b[0m\u001b[1;33m)\u001b[0m\u001b[1;33m\u001b[0m\u001b[1;33m\u001b[0m\u001b[0m\n\u001b[0m",
      "\u001b[1;32mC:\\ProgramData\\Miniconda3\\lib\\site-packages\\IPython\\core\\interactiveshell.py\u001b[0m in \u001b[0;36mrun_cell_magic\u001b[1;34m(self, magic_name, line, cell)\u001b[0m\n\u001b[0;32m   2397\u001b[0m             \u001b[1;32mwith\u001b[0m \u001b[0mself\u001b[0m\u001b[1;33m.\u001b[0m\u001b[0mbuiltin_trap\u001b[0m\u001b[1;33m:\u001b[0m\u001b[1;33m\u001b[0m\u001b[1;33m\u001b[0m\u001b[0m\n\u001b[0;32m   2398\u001b[0m                 \u001b[0margs\u001b[0m \u001b[1;33m=\u001b[0m \u001b[1;33m(\u001b[0m\u001b[0mmagic_arg_s\u001b[0m\u001b[1;33m,\u001b[0m \u001b[0mcell\u001b[0m\u001b[1;33m)\u001b[0m\u001b[1;33m\u001b[0m\u001b[1;33m\u001b[0m\u001b[0m\n\u001b[1;32m-> 2399\u001b[1;33m                 \u001b[0mresult\u001b[0m \u001b[1;33m=\u001b[0m \u001b[0mfn\u001b[0m\u001b[1;33m(\u001b[0m\u001b[1;33m*\u001b[0m\u001b[0margs\u001b[0m\u001b[1;33m,\u001b[0m \u001b[1;33m**\u001b[0m\u001b[0mkwargs\u001b[0m\u001b[1;33m)\u001b[0m\u001b[1;33m\u001b[0m\u001b[1;33m\u001b[0m\u001b[0m\n\u001b[0m\u001b[0;32m   2400\u001b[0m             \u001b[1;32mreturn\u001b[0m \u001b[0mresult\u001b[0m\u001b[1;33m\u001b[0m\u001b[1;33m\u001b[0m\u001b[0m\n\u001b[0;32m   2401\u001b[0m \u001b[1;33m\u001b[0m\u001b[0m\n",
      "\u001b[1;32mC:\\ProgramData\\Miniconda3\\lib\\site-packages\\IPython\\core\\magics\\script.py\u001b[0m in \u001b[0;36mnamed_script_magic\u001b[1;34m(line, cell)\u001b[0m\n\u001b[0;32m    140\u001b[0m             \u001b[1;32melse\u001b[0m\u001b[1;33m:\u001b[0m\u001b[1;33m\u001b[0m\u001b[1;33m\u001b[0m\u001b[0m\n\u001b[0;32m    141\u001b[0m                 \u001b[0mline\u001b[0m \u001b[1;33m=\u001b[0m \u001b[0mscript\u001b[0m\u001b[1;33m\u001b[0m\u001b[1;33m\u001b[0m\u001b[0m\n\u001b[1;32m--> 142\u001b[1;33m             \u001b[1;32mreturn\u001b[0m \u001b[0mself\u001b[0m\u001b[1;33m.\u001b[0m\u001b[0mshebang\u001b[0m\u001b[1;33m(\u001b[0m\u001b[0mline\u001b[0m\u001b[1;33m,\u001b[0m \u001b[0mcell\u001b[0m\u001b[1;33m)\u001b[0m\u001b[1;33m\u001b[0m\u001b[1;33m\u001b[0m\u001b[0m\n\u001b[0m\u001b[0;32m    143\u001b[0m \u001b[1;33m\u001b[0m\u001b[0m\n\u001b[0;32m    144\u001b[0m         \u001b[1;31m# write a basic docstring:\u001b[0m\u001b[1;33m\u001b[0m\u001b[1;33m\u001b[0m\u001b[1;33m\u001b[0m\u001b[0m\n",
      "\u001b[1;32m<decorator-gen-104>\u001b[0m in \u001b[0;36mshebang\u001b[1;34m(self, line, cell)\u001b[0m\n",
      "\u001b[1;32mC:\\ProgramData\\Miniconda3\\lib\\site-packages\\IPython\\core\\magic.py\u001b[0m in \u001b[0;36m<lambda>\u001b[1;34m(f, *a, **k)\u001b[0m\n\u001b[0;32m    185\u001b[0m     \u001b[1;31m# but it's overkill for just that one bit of state.\u001b[0m\u001b[1;33m\u001b[0m\u001b[1;33m\u001b[0m\u001b[1;33m\u001b[0m\u001b[0m\n\u001b[0;32m    186\u001b[0m     \u001b[1;32mdef\u001b[0m \u001b[0mmagic_deco\u001b[0m\u001b[1;33m(\u001b[0m\u001b[0marg\u001b[0m\u001b[1;33m)\u001b[0m\u001b[1;33m:\u001b[0m\u001b[1;33m\u001b[0m\u001b[1;33m\u001b[0m\u001b[0m\n\u001b[1;32m--> 187\u001b[1;33m         \u001b[0mcall\u001b[0m \u001b[1;33m=\u001b[0m \u001b[1;32mlambda\u001b[0m \u001b[0mf\u001b[0m\u001b[1;33m,\u001b[0m \u001b[1;33m*\u001b[0m\u001b[0ma\u001b[0m\u001b[1;33m,\u001b[0m \u001b[1;33m**\u001b[0m\u001b[0mk\u001b[0m\u001b[1;33m:\u001b[0m \u001b[0mf\u001b[0m\u001b[1;33m(\u001b[0m\u001b[1;33m*\u001b[0m\u001b[0ma\u001b[0m\u001b[1;33m,\u001b[0m \u001b[1;33m**\u001b[0m\u001b[0mk\u001b[0m\u001b[1;33m)\u001b[0m\u001b[1;33m\u001b[0m\u001b[1;33m\u001b[0m\u001b[0m\n\u001b[0m\u001b[0;32m    188\u001b[0m \u001b[1;33m\u001b[0m\u001b[0m\n\u001b[0;32m    189\u001b[0m         \u001b[1;32mif\u001b[0m \u001b[0mcallable\u001b[0m\u001b[1;33m(\u001b[0m\u001b[0marg\u001b[0m\u001b[1;33m)\u001b[0m\u001b[1;33m:\u001b[0m\u001b[1;33m\u001b[0m\u001b[1;33m\u001b[0m\u001b[0m\n",
      "\u001b[1;32mC:\\ProgramData\\Miniconda3\\lib\\site-packages\\IPython\\core\\magics\\script.py\u001b[0m in \u001b[0;36mshebang\u001b[1;34m(self, line, cell)\u001b[0m\n\u001b[0;32m    243\u001b[0m             \u001b[0msys\u001b[0m\u001b[1;33m.\u001b[0m\u001b[0mstderr\u001b[0m\u001b[1;33m.\u001b[0m\u001b[0mflush\u001b[0m\u001b[1;33m(\u001b[0m\u001b[1;33m)\u001b[0m\u001b[1;33m\u001b[0m\u001b[1;33m\u001b[0m\u001b[0m\n\u001b[0;32m    244\u001b[0m         \u001b[1;32mif\u001b[0m \u001b[0margs\u001b[0m\u001b[1;33m.\u001b[0m\u001b[0mraise_error\u001b[0m \u001b[1;32mand\u001b[0m \u001b[0mp\u001b[0m\u001b[1;33m.\u001b[0m\u001b[0mreturncode\u001b[0m\u001b[1;33m!=\u001b[0m\u001b[1;36m0\u001b[0m\u001b[1;33m:\u001b[0m\u001b[1;33m\u001b[0m\u001b[1;33m\u001b[0m\u001b[0m\n\u001b[1;32m--> 245\u001b[1;33m             \u001b[1;32mraise\u001b[0m \u001b[0mCalledProcessError\u001b[0m\u001b[1;33m(\u001b[0m\u001b[0mp\u001b[0m\u001b[1;33m.\u001b[0m\u001b[0mreturncode\u001b[0m\u001b[1;33m,\u001b[0m \u001b[0mcell\u001b[0m\u001b[1;33m,\u001b[0m \u001b[0moutput\u001b[0m\u001b[1;33m=\u001b[0m\u001b[0mout\u001b[0m\u001b[1;33m,\u001b[0m \u001b[0mstderr\u001b[0m\u001b[1;33m=\u001b[0m\u001b[0merr\u001b[0m\u001b[1;33m)\u001b[0m\u001b[1;33m\u001b[0m\u001b[1;33m\u001b[0m\u001b[0m\n\u001b[0m\u001b[0;32m    246\u001b[0m \u001b[1;33m\u001b[0m\u001b[0m\n\u001b[0;32m    247\u001b[0m     \u001b[1;32mdef\u001b[0m \u001b[0m_run_script\u001b[0m\u001b[1;33m(\u001b[0m\u001b[0mself\u001b[0m\u001b[1;33m,\u001b[0m \u001b[0mp\u001b[0m\u001b[1;33m,\u001b[0m \u001b[0mcell\u001b[0m\u001b[1;33m,\u001b[0m \u001b[0mto_close\u001b[0m\u001b[1;33m)\u001b[0m\u001b[1;33m:\u001b[0m\u001b[1;33m\u001b[0m\u001b[1;33m\u001b[0m\u001b[0m\n",
      "\u001b[1;31mCalledProcessError\u001b[0m: Command 'b'cd code/prepare_data/\\nfeaturemat_dir=\"data/featurematrices/\"\\npython create_featurematrix.py -inp $dataset_dir -out $featuremat_dir\\n'' returned non-zero exit status 1."
     ]
    }
   ],
   "source": [
    "%%bash\n",
    "cd code/prepare_data/\n",
    "featuremat_dir=\"data/featurematrices/\"\n",
    "python create_featurematrix.py -inp $dataset_dir -out $featuremat_dir"
   ]
  },
  {
   "cell_type": "markdown",
   "id": "disciplinary-climb",
   "metadata": {},
   "source": [
    "3. Creating the feature matrix with increment of the training data\n",
    "\n",
    "Linear methods are known to require less training data, than DNN-based. In orded to check how does the amount the the training data influence the performance of the IGA, we will create the feature matrices with sequentially increasing number of the train images. In order to do it we randomly select 10, 20, 40, 60, and 80 % of the training images. For reproducibility in the project we used the average performance over 10 random shuffles. However, in this tutorial we will only use 1 shuffle. "
   ]
  },
  {
   "cell_type": "code",
   "execution_count": null,
   "id": "skilled-tsunami",
   "metadata": {},
   "outputs": [],
   "source": []
  },
  {
   "cell_type": "markdown",
   "id": "absent-stereo",
   "metadata": {},
   "source": [
    "Great! Now we have the feature matrices for the train and test set EEG responses and are ready to run intersubject generalization on it."
   ]
  },
  {
   "cell_type": "markdown",
   "id": "german-attendance",
   "metadata": {},
   "source": [
    "### Intersubject generalization\n",
    "Now let us run different intersubject generalization methods and see how it influences the performance of the encoding model.\n",
    "\n",
    "#### 1. Control\n",
    "In order to have a control for the IGA, we first run the encoding model on the raw data.\n"
   ]
  },
  {
   "cell_type": "code",
   "execution_count": null,
   "id": "further-engagement",
   "metadata": {},
   "outputs": [],
   "source": []
  },
  {
   "cell_type": "code",
   "execution_count": null,
   "id": "second-wonder",
   "metadata": {},
   "outputs": [],
   "source": [
    "Let us run MultiviewICA on the featurematrices.\n",
    "I wrapped the original code for the Multiview ICA into an object *intersubject_generalizer*. Following the scikit learn convention, it implements the *.fit* and *.project* methods.  "
   ]
  }
 ],
 "metadata": {
  "kernelspec": {
   "display_name": "Python 3",
   "language": "python",
   "name": "python3"
  },
  "language_info": {
   "codemirror_mode": {
    "name": "ipython",
    "version": 3
   },
   "file_extension": ".py",
   "mimetype": "text/x-python",
   "name": "python",
   "nbconvert_exporter": "python",
   "pygments_lexer": "ipython3",
   "version": "3.7.4"
  }
 },
 "nbformat": 4,
 "nbformat_minor": 5
}
